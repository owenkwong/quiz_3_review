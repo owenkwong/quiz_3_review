{
 "cells": [
  {
   "cell_type": "markdown",
   "id": "80b3c9b0-7633-4d07-afbc-2d7e70a93619",
   "metadata": {},
   "source": [
    "# Clustering"
   ]
  },
  {
   "cell_type": "markdown",
   "id": "9c16267b-5958-4f45-b056-936530f96f97",
   "metadata": {},
   "source": [
    "## General\n",
    "\n",
    "Clustering can be defined as a data analysis technique that involves dividing a dataset into smaller subgroups that are related in some way. \n",
    "\n",
    "Can be used to seperate: \n",
    "- Online customers into groups with similar purchasing behaviours \n",
    "- People with similar genetic properties \n",
    "- Documents that correspond to different topics \n",
    "\n",
    "It is considered an *unsupervised* task because it tries to understand data without response variables.\n",
    "\n",
    "It uses a clustering algorithm and in the end has findings that help **generate new questions** and **improve predictive analyses**."
   ]
  },
  {
   "cell_type": "markdown",
   "id": "55ff16ea-6975-40df-874b-a0f8ade37f2d",
   "metadata": {},
   "source": [
    "## Algorithm"
   ]
  },
  {
   "cell_type": "markdown",
   "id": "f4b4a43d-dbbd-460f-a70a-3799a2bde565",
   "metadata": {},
   "source": [
    "K-means algorithm is a process that groups data in to *K* clusters and its measured quality is in *WSSD* (within-cluster sum-of-squared-distances).\n",
    "\n",
    "Total WSSD is determined by adding the squared distance between each of the data points and its respective cluster and taking the sum. \n",
    "\n",
    "This is the algorithm process: \n",
    "1. Begin the K-means algorithm by picking *K*, and uniformly randomly assigning data to the *K* clusters.\n",
    "2. K-means then repeatedly goes through two major steps that minimize total WSSD <br>\n",
    "**i) Center Update:** Compute the center of each cluster <br>\n",
    "**ii) Label Update:** Reassign each point to the cluster with the nearest center\n",
    "\n",
    "K-means should be repeated in a random restart to avoid being stuck in a bad solution. "
   ]
  },
  {
   "cell_type": "markdown",
   "id": "4e7d2e2e-7f1f-43eb-bac0-9a148bcc72e7",
   "metadata": {},
   "source": [
    "## Data preprocessing "
   ]
  },
  {
   "cell_type": "markdown",
   "id": "82d1abcd-1735-4d75-b4fd-d6c94ea35087",
   "metadata": {},
   "source": [
    "```\n",
    "standardized_data <- \n",
    "    not_standardized_data |>\n",
    "    select(c(...)) |>\n",
    "    mutate(across(everything(), scale)) ##(1)##\n",
    "```"
   ]
  },
  {
   "cell_type": "markdown",
   "id": "5a874305-d32c-4ede-a0db-da2c4da4b293",
   "metadata": {},
   "source": [
    "1. Calculating distance so we should standardize the data using accross everything scale. "
   ]
  },
  {
   "cell_type": "markdown",
   "id": "f33628cc-4192-4c53-826f-5fa9e21d27b7",
   "metadata": {},
   "source": [
    "## With K value"
   ]
  },
  {
   "cell_type": "markdown",
   "id": "77a847ef-64d6-4a82-8dc1-de7fdc01c459",
   "metadata": {},
   "source": [
    "```\n",
    "library(broom) ##(1)##\n",
    "\n",
    "kmeans_object <- kmeans(standardized_data, centers = 3) ##(2)##\n",
    "\n",
    "clustered_data <- augment(kmeans_object, standardized_data) ##(3)##\n",
    "\n",
    "cluster_plot <- ggplot(clustered_data, aes(x = VALUE, y = VALUE, color = .cluster), size = 2) + ##(4)##\n",
    "  geom_point() +\n",
    "  labs(x = \"VALUE\", y = \"VALUE\", color = \"Cluster\") + \n",
    "  scale_color_manual(values = c(\"dodgerblue3\", \"darkorange3\", \"goldenrod1\")) + \n",
    "  theme(text = element_text(size = 12))\n",
    "\n",
    "glance(kmeans_object) ##(5)##\n",
    "```"
   ]
  },
  {
   "cell_type": "markdown",
   "id": "3dc99d36-9527-408c-91d1-03e4d6ad4c06",
   "metadata": {},
   "source": [
    "1. The broom package allows us to use the **augment** function. \n",
    "2. Kmeans goes through the process that assigns data points. \n",
    "3. Augment takes in the model and original df, and returns df with data and cluster assignments mutated. \n",
    "4. Visualization with cluster assignments for the cluster. \n",
    "5. Glance can be used on kmeans_object to find total WSSD"
   ]
  },
  {
   "cell_type": "markdown",
   "id": "bd593457-bc4a-4768-9eb0-9b346da1104d",
   "metadata": {},
   "source": [
    "## Without K value"
   ]
  },
  {
   "cell_type": "markdown",
   "id": "383afada-7bda-42f2-ab80-41552e65e26f",
   "metadata": {},
   "source": [
    "```\n",
    "##(1)##\n",
    "elbow_stats <-  tibble(k = 1:10) |>\n",
    " rowwise() |>\n",
    " mutate(clusters = list(kmeans(standardized_data, centers = k, nstart = ...)), \n",
    " glanced = list(glance(clusters)))                                           \n",
    "\n",
    "##(2)##\n",
    "clustering_statistics <- elbow_stats |>\n",
    " select(-clusters) |>\n",
    " unnest(glanced)\n",
    "\n",
    "##(3)##\n",
    "elbow_plot <- ggplot(clustering_statistics, aes(x = k, y = tot.withinss)) +\n",
    " geom_point(size = 2) +\n",
    " geom_line() +\n",
    " labs(x = \"K\",\n",
    "      y = \"Total within-cluster sum of squares\",\n",
    "      title = \"Elbow Plot\") +\n",
    " scale_x_continuous(breaks = 1:10) +\n",
    " theme(text = element_text(size = 20))\n",
    "\n",
    "```"
   ]
  },
  {
   "cell_type": "markdown",
   "id": "7e955f78-4df6-497d-b828-ae9017271107",
   "metadata": {},
   "source": [
    "1. Get Kmeans object for each k value in a given tibble range that we want (perform operations on each row with a k value we want it to use). \n",
    "2. Unnest because each item in this column is a dataframe. \n",
    "3. Visualize the elbow plot so that we can choose a good k value for our analysis. "
   ]
  },
  {
   "cell_type": "markdown",
   "id": "a4fcfbe1-90f8-42f4-ad23-cc88ed629576",
   "metadata": {},
   "source": [
    "# Inference I (Statistical Inference)"
   ]
  },
  {
   "cell_type": "code",
   "execution_count": null,
   "id": "13f3f3e0-a48a-4ad6-99e1-e4e0fe6473f3",
   "metadata": {},
   "outputs": [],
   "source": []
  },
  {
   "cell_type": "markdown",
   "id": "364aa678-deb6-4ac4-9689-6da169f301d1",
   "metadata": {},
   "source": [
    "# Inference II (Bootstrapping and Confidence Intervals)"
   ]
  },
  {
   "cell_type": "code",
   "execution_count": null,
   "id": "c7d21011-f33e-4e69-b552-377bef05bb7b",
   "metadata": {},
   "outputs": [],
   "source": []
  }
 ],
 "metadata": {
  "kernelspec": {
   "display_name": "R",
   "language": "R",
   "name": "ir"
  },
  "language_info": {
   "codemirror_mode": "r",
   "file_extension": ".r",
   "mimetype": "text/x-r-source",
   "name": "R",
   "pygments_lexer": "r",
   "version": "4.1.3"
  }
 },
 "nbformat": 4,
 "nbformat_minor": 5
}
